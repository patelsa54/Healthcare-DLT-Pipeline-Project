{
 "cells": [
  {
   "cell_type": "code",
   "execution_count": 0,
   "metadata": {
    "application/vnd.databricks.v1+cell": {
     "cellMetadata": {
      "byteLimit": 2048000,
      "rowLimit": 10000
     },
     "inputWidgets": {},
     "nuid": "68c70867-7744-4931-988e-211878308473",
     "showTitle": false,
     "tableResultSettingsMap": {},
     "title": ""
    }
   },
   "outputs": [],
   "source": [
    "# Diagonosis mapping\n",
    "\n",
    "df = spark.read.option(\"header\", \"true\").option(\"inferSchema\", \"true\").csv(\"/Volumes/gds_test_workspace/default/healthcare_data/diagnosis_mapping.csv\")\n",
    "display(df)\n",
    "\n",
    "df.write.format(\"delta\").mode(\"append\").saveAsTable(\"gds_test_workspace.default.raw_diagnosis_map\")"
   ]
  },
  {
   "cell_type": "code",
   "execution_count": 0,
   "metadata": {
    "application/vnd.databricks.v1+cell": {
     "cellMetadata": {
      "byteLimit": 2048000,
      "rowLimit": 10000
     },
     "inputWidgets": {},
     "nuid": "2ffe3960-cc60-472f-bdf5-c2d79d94475c",
     "showTitle": false,
     "tableResultSettingsMap": {},
     "title": ""
    }
   },
   "outputs": [],
   "source": [
    "path = \"/Volumes/gds_test_workspace/default/healthcare_data/patients_daily_file_1_2025.csv\"\n",
    "#path = \"/Volumes/gds_test_workspace/default/healthcare_data/patients_daily_file_2_2025.csv\"\n",
    "#path = \"/Volumes/gds_test_workspace/default/healthcare_data/patients_daily_file_3_2025.csv\"\n",
    "\n",
    "df = spark.read.option(\"header\", \"true\").option(\"inferSchema\", \"true\").csv(f\"{path}\")\n",
    "df = df.withColumn(\"admission_date\", df[\"admission_date\"].cast(\"date\"))\n",
    "\n",
    "display(df)\n",
    "\n",
    "df.write.format(\"delta\").option(\"mergeSchema\", \"true\").mode(\"append\").saveAsTable(\"gds_test_workspace.default.raw_patients_daily\")"
   ]
  }
 ],
 "metadata": {
  "application/vnd.databricks.v1+notebook": {
   "computePreferences": null,
   "dashboards": [],
   "environmentMetadata": {
    "base_environment": "",
    "environment_version": "1"
   },
   "inputWidgetPreferences": null,
   "language": "python",
   "notebookMetadata": {
    "pythonIndentUnit": 4
   },
   "notebookName": "feed_raw_tables",
   "widgets": {}
  },
  "language_info": {
   "name": "python"
  }
 },
 "nbformat": 4,
 "nbformat_minor": 0
}
