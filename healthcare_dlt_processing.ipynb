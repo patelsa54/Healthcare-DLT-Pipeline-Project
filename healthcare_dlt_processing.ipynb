{
 "cells": [
  {
   "cell_type": "code",
   "execution_count": 0,
   "metadata": {
    "application/vnd.databricks.v1+cell": {
     "cellMetadata": {},
     "inputWidgets": {},
     "nuid": "e3fc90fa-deaf-4691-ab2f-69826914f7a6",
     "showTitle": false,
     "tableResultSettingsMap": {},
     "title": ""
    }
   },
   "outputs": [],
   "source": [
    "-- Databricks notebook source\n",
    "-- =============================================================================\n",
    "-- HEALTHCARE DLT PIPELINE - BRONZE LAYER: DIAGNOSTIC MAPPING\n",
    "-- =============================================================================\n",
    "-- This table creates a bronze layer for diagnosis code mappings\n",
    "-- Purpose: Reference data for diagnosis codes to descriptions\n",
    "-- Data Quality: Enforces non-null constraints on critical fields\n",
    "-- Violation Handling: Drops rows with null diagnosis codes or descriptions\n",
    "\n",
    "CREATE LIVE TABLE diagnostic_mapping(\n",
    "  -- Data Quality Constraints: Ensure critical fields are not null\n",
    "  CONSTRAINT diag_code_not_null EXPECT (diagnosis_code IS NOT NULL) ON VIOLATION DROP ROW,\n",
    "  CONSTRAINT diag_desc_not_null EXPECT (diagnosis_description IS NOT NULL) ON VIOLATION DROP ROW\n",
    ")\n",
    "COMMENT \"Bronze table for the diagnosis mapping file - Reference data for diagnosis codes\"\n",
    "TBLPROPERTIES (\"quality\" = \"bronze\")\n",
    "AS\n",
    "SELECT\n",
    "  -- Explicit type casting for data consistency\n",
    "  CAST(diagnosis_code AS STRING) AS diagnosis_code,\n",
    "  CAST(diagnosis_description AS STRING) AS diagnosis_description\n",
    "FROM gds_test_workplace.default.raw_diagnosis_map"
   ]
  },
  {
   "cell_type": "code",
   "execution_count": 0,
   "metadata": {
    "application/vnd.databricks.v1+cell": {
     "cellMetadata": {},
     "inputWidgets": {},
     "nuid": "c2a17cb2-ec55-487f-9b42-9d9ee65f6534",
     "showTitle": false,
     "tableResultSettingsMap": {},
     "title": ""
    }
   },
   "outputs": [],
   "source": [
    "-- =============================================================================\n",
    "-- HEALTHCARE DLT PIPELINE - BRONZE LAYER: DAILY PATIENTS (STREAMING)\n",
    "-- =============================================================================\n",
    "-- This table creates a streaming bronze layer for daily patient admissions\n",
    "-- Purpose: Real-time ingestion of patient data with comprehensive data quality checks\n",
    "-- Streaming: Uses STREAM() to process new data as it arrives\n",
    "-- Data Quality: Enforces business rules for patient data completeness\n",
    "\n",
    "CREATE OR REFRESH STREAMING TABLE daily_patients(\n",
    "  -- Primary Key Constraint: Patient ID must be present\n",
    "  CONSTRAINT pk_not_null EXPECT (patient_id IS NOT NULL) ON VIOLATION DROP ROW,\n",
    "  -- Business Rule: All essential patient fields must be populated\n",
    "  CONSTRAINT required_fields EXPECT (name IS NOT NULL AND age IS NOT NULL AND gender IS NOT NULL AND address IS NOT NULL AND contact_number IS NOT NULL AND admission_date IS NOT NULL) ON VIOLATION DROP ROW\n",
    ")\n",
    "COMMENT \"Bronze table for daily patient data - Streaming ingestion with data quality enforcement\"\n",
    "TBLPROPERTIES (\"quality\" = \"bronze\")\n",
    "AS\n",
    "SELECT\n",
    "  -- Explicit type casting for data consistency and validation\n",
    "  CAST(patient_id AS STRING) AS patient_id,\n",
    "  CAST(name AS STRING) AS name,\n",
    "  CAST(age AS INT) AS age,\n",
    "  CAST(gender AS STRING) AS gender,\n",
    "  CAST(address AS STRING) AS address,\n",
    "  CAST(contact_number AS STRING) AS contact_number,\n",
    "  CAST(admission_date AS DATE) AS admission_date,\n",
    "  CAST(diagnosis_code AS STRING) AS diagnosis_code\n",
    "FROM STREAM(gds_test_workplace.default.raw_patients_daily)"
   ]
  },
  {
   "cell_type": "code",
   "execution_count": 0,
   "metadata": {
    "application/vnd.databricks.v1+cell": {
     "cellMetadata": {},
     "inputWidgets": {},
     "nuid": "05d8b185-9cb6-49d2-8e3b-556c065d8af4",
     "showTitle": false,
     "tableResultSettingsMap": {},
     "title": ""
    }
   },
   "outputs": [],
   "source": [
    "-- =============================================================================\n",
    "-- HEALTHCARE DLT PIPELINE - SILVER LAYER: PROCESSED PATIENT DATA\n",
    "-- =============================================================================\n",
    "-- This table creates a silver layer by joining patient data with diagnosis mappings\n",
    "-- Purpose: Enriched patient data with human-readable diagnosis descriptions\n",
    "-- Data Quality: Ensures diagnosis descriptions are available for analysis\n",
    "-- Join Strategy: LEFT JOIN to preserve all patients, even those with unmapped codes\n",
    "\n",
    "CREATE OR REFRESH STREAMING TABLE processed_patient_data\n",
    "  -- Data Quality: Ensure diagnosis description is available for meaningful analysis\n",
    "  (CONSTRAINT has_diagnosis EXPECT (diagnosis_description IS NOT NULL) ON VIOLATION DROP ROW)\n",
    "COMMENT \"Silver table with enriched patient data - Joined with diagnosis mappings for analysis\"\n",
    "TBLPROPERTIES (\"quality\" = \"silver\")\n",
    "AS\n",
    "SELECT\n",
    "    -- Patient demographic and admission information\n",
    "    p.patient_id,\n",
    "    p.name,\n",
    "    p.age,\n",
    "    p.gender,\n",
    "    p.address,\n",
    "    p.contact_number,\n",
    "    p.admission_date,\n",
    "    m.diagnosis_description AS diagnosis_description\n",
    "FROM STREAM(live.daily_patients) p\n",
    "LEFT JOIN live.diagnostic_mapping m\n",
    "  ON p.diagnosis_code = m.diagnosis_code;"
   ]
  },
  {
   "cell_type": "code",
   "execution_count": 0,
   "metadata": {
    "application/vnd.databricks.v1+cell": {
     "cellMetadata": {},
     "inputWidgets": {},
     "nuid": "b80a97c9-50d5-468e-a14a-9e2d12116e72",
     "showTitle": false,
     "tableResultSettingsMap": {},
     "title": ""
    }
   },
   "outputs": [],
   "source": [
    "-- =============================================================================\n",
    "-- HEALTHCARE DLT PIPELINE - GOLD LAYER: PATIENT STATISTICS BY ADMISSION DATE\n",
    "-- =============================================================================\n",
    "-- This table creates aggregated analytics for daily patient admissions by diagnosis\n",
    "-- Purpose: Daily operational metrics for hospital capacity and diagnosis trends\n",
    "-- Aggregation: Groups by admission date and diagnosis for time-series analysis\n",
    "-- Metrics: Patient counts and average age for demographic insights\n",
    "\n",
    "CREATE LIVE TABLE patient_statistics_by_admission_date\n",
    "COMMENT \"Gold table with daily patient admission statistics by diagnosis - Operational metrics\"\n",
    "TBLPROPERTIES (\"quality\" = \"gold\")\n",
    "AS\n",
    "SELECT\n",
    "  -- Time dimension for trend analysis\n",
    "  admission_date,\n",
    "  -- Diagnosis dimension for medical insights\n",
    "  diagnosis_description,\n",
    "  -- Key operational metrics\n",
    "  COUNT(*) AS patient_count,\n",
    "  AVG(age) AS avg_age\n",
    "FROM live.processed_patient_data\n",
    "GROUP BY admission_date, diagnosis_description;\n"
   ]
  },
  {
   "cell_type": "code",
   "execution_count": 0,
   "metadata": {
    "application/vnd.databricks.v1+cell": {
     "cellMetadata": {},
     "inputWidgets": {},
     "nuid": "2b8857d6-8a6f-4a53-ab48-c9f4edde07ca",
     "showTitle": false,
     "tableResultSettingsMap": {},
     "title": ""
    }
   },
   "outputs": [],
   "source": [
    "-- =============================================================================\n",
    "-- HEALTHCARE DLT PIPELINE - GOLD LAYER: PATIENT STATISTICS BY DIAGNOSIS\n",
    "-- =============================================================================\n",
    "-- This table creates comprehensive analytics for each diagnosis type\n",
    "-- Purpose: Medical insights and demographic analysis by diagnosis\n",
    "-- Aggregation: Groups by diagnosis for medical research and capacity planning\n",
    "-- Metrics: Patient counts, age statistics, and gender distribution\n",
    "\n",
    "CREATE LIVE TABLE patient_statistics_by_diagnosis\n",
    "COMMENT \"Gold table with comprehensive patient statistics by diagnosis - Medical analytics\"\n",
    "TBLPROPERTIES (\"quality\" = \"gold\")\n",
    "AS\n",
    "SELECT\n",
    "    -- Diagnosis dimension for medical categorization\n",
    "    diagnosis_description,\n",
    "    -- Patient volume metrics\n",
    "    COUNT(patient_id) AS patient_count,\n",
    "    -- Age demographic analysis\n",
    "    AVG(age) AS avg_age,\n",
    "    MIN(age) AS min_age,\n",
    "    MAX(age) AS max_age,\n",
    "    -- Gender distribution analysis\n",
    "    COUNT(DISTINCT gender) AS unique_gender_count\n",
    "FROM live.processed_patient_data\n",
    "GROUP BY diagnosis_description;"
   ]
  },
  {
   "cell_type": "code",
   "execution_count": 0,
   "metadata": {
    "application/vnd.databricks.v1+cell": {
     "cellMetadata": {},
     "inputWidgets": {},
     "nuid": "18429810-8989-4245-b220-2dcdeadbe0a3",
     "showTitle": false,
     "tableResultSettingsMap": {},
     "title": ""
    }
   },
   "outputs": [],
   "source": [
    "-- =============================================================================\n",
    "-- HEALTHCARE DLT PIPELINE - GOLD LAYER: PATIENT STATISTICS BY GENDER\n",
    "-- =============================================================================\n",
    "-- This table creates demographic analytics grouped by patient gender\n",
    "-- Purpose: Gender-based health insights and demographic analysis\n",
    "-- Aggregation: Groups by gender for population health studies\n",
    "-- Metrics: Patient counts, age statistics, and diagnosis diversity\n",
    "\n",
    "CREATE LIVE TABLE patient_statistics_by_gender\n",
    "COMMENT \"Gold table with demographic patient statistics by gender - Population health analytics\"\n",
    "TBLPROPERTIES (\"quality\" = \"gold\")\n",
    "AS\n",
    "SELECT\n",
    "    -- Gender dimension for demographic analysis\n",
    "    gender,\n",
    "    -- Patient volume metrics\n",
    "    COUNT(patient_id) AS patient_count,\n",
    "    -- Age demographic analysis\n",
    "    AVG(age) AS avg_age,\n",
    "    MIN(age) AS min_age,\n",
    "    MAX(age) AS max_age,\n",
    "    -- Medical diversity analysis\n",
    "    COUNT(DISTINCT diagnosis_description) AS unique_diagnosis_count\n",
    "FROM live.processed_patient_data\n",
    "GROUP BY gender;"
   ]
  }
 ],
 "metadata": {
  "application/vnd.databricks.v1+notebook": {
   "computePreferences": null,
   "dashboards": [],
   "environmentMetadata": {
    "base_environment": "",
    "environment_version": "1"
   },
   "inputWidgetPreferences": null,
   "language": "sql",
   "notebookMetadata": {
    "pythonIndentUnit": 4
   },
   "notebookName": "healthcare_dlt_processing",
   "widgets": {}
  },
  "language_info": {
   "name": "sql"
  }
 },
 "nbformat": 4,
 "nbformat_minor": 0
}
